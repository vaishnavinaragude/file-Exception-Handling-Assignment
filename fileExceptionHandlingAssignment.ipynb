{
  "nbformat": 4,
  "nbformat_minor": 0,
  "metadata": {
    "colab": {
      "provenance": []
    },
    "kernelspec": {
      "name": "python3",
      "display_name": "Python 3"
    },
    "language_info": {
      "name": "python"
    }
  },
  "cells": [
    {
      "cell_type": "markdown",
      "source": [
        "1. What is the difference between interpreted and compiled languages ?\n",
        "--> The main difference between interpreted and compiled languages is how the code is executed:\n",
        "Compiled languages\n",
        "The code is translated into machine code once and then executed. This results in faster execution, better optimization, and more efficient memory usage. Examples of compiled languages include C, C++, and Rust.\n",
        "Interpreted languages\n",
        "The code is executed line by line, and is compiled on the fly each time the program is run. This makes interpreted languages more flexible for modifying and testing code. Examples of interpreted languages include JavaScript, Perl, Python, and BASIC.\n",
        "\n",
        "2. What is exception handling in Python ?\n",
        "--> Exception handling is a technique in Python that allows a program to continue running or exit gracefully when an error occurs. It's a vital concept for writing reliable code by anticipating and handling errors in a controlled manner.\n",
        "\n",
        "3. What is the purpose of the finally block in exception handling ?\n",
        "-->The purpose of a finally block in exception handling is to ensure that important code is executed, regardless of whether an exception is thrown. This is useful for:\n",
        "Resource cleanup: Closing files, database connections, and I/O buffers\n",
        "Avoiding bypassed cleanup code: Preventing cleanup code from being accidentally bypassed by a return, continue, or break\n",
        "Logging diagnostic messages: Updating an audit trail\n",
        "A finally block always executes when the try block exits, even if an exception occurs. This is true even if the catch statement is missing.\n",
        "\n",
        "4. What is logging in Python ?\n",
        "--> Python logging is a module that allows you to track events that occur while your program is running. You can use logging to record information about errors, warnings, and other events that occur during program execution. And logging is a useful tool for debugging, troubleshooting, and monitoring your program.\n",
        "\n",
        "5. What is the significance of the __del__ method in Python ?\n",
        "--> The __del__ method in Python is a destructor method that's called when an object is about to be destroyed. It's used to perform cleanup, release resources, or other finalization actions.\n",
        "\n",
        "6. What is the difference between import and from ... import in Python ?\n",
        "--> The difference between import and from import in Python is: import imports an entire code library. from import imports a specific member or members of the library.\n",
        "\n",
        "7. How can you handle multiple exceptions in Python ?\n",
        "--> Python allows you to catch multiple exceptions in a single 'except' block by specifying them as a tuple. This feature is useful when different exceptions require similar handling logic. In this case, if either 'ExceptionType1' or 'ExceptionType2' is raised, the code within the 'except' block will be executed.\n",
        "\n",
        "8. What is the purpose of the with statement when handling files in Python ?\n",
        "--> The with statement in Python is used to simplify the management of resources that need to be acquired and released in a specific order. It provides a way to wrap the execution of a block of code with methods defined by a context manager.\n",
        "\n",
        "9. What is the difference between multithreading and multiprocessing ?\n",
        "--> Multithreading refers to the ability of a processor to execute multiple threads concurrently, where each thread runs a process. Multiprocessing refers to the ability of a system to run multiple processors in parallel, where each processor can run one or more threads.\n",
        "\n",
        "10. What are the advantages of using logging in a program ?\n",
        "--> Logging in a program can have many advantages, including:\n",
        "Debugging: Logging can help developers easily debug errors by providing useful data at the right places.\n",
        "Security: Logging can improve the overall security of an application.\n",
        "Monitoring: Log monitoring can help developers pinpoint and resolve application issues by tracking user or process actions.\n",
        "Business performance: Logging can lead to improved business decisions and better business performance.\n",
        "Compliance: Logging can help companies demonstrate compliance with regulations and security standards.\n",
        "Efficiency: Logging can be more efficient than printing, especially for complex programs.\n",
        "System performance: Organizing logs well can help keep your system running smoothly.\n",
        "\n",
        "11. What is memory management in Python ?\n",
        "--> Memory management in Python is the process of automatically allocating and releasing memory to ensure that programs run efficiently. Python's memory manager uses reference counting and memory pooling to manage memory, which helps prevent memory leaks and reduces the amount of time spent allocating and deallocating memory.\n",
        "\n",
        "12. What are the basic steps involved in exception handling in Python ?\n",
        "--> The basic steps for exception handling in Python are to use the try-except-finally block to catch and handle exceptions, and to execute cleanup code:\n",
        "Try-except-finally block: The primary mechanism for exception handling in Python.\n",
        "Catch exceptions: Use the try-except statement block to catch and handle exceptions.\n",
        "Handle exceptions gracefully: Use the try-except-finally block to handle exceptions gracefully.\n",
        "Execute cleanup code: Use the finally clause to execute cleanup code reliably.\n",
        "\n",
        "13. Why is memory management important in Python ?\n",
        "--> Python uses a memory manager to manage memory allocation and deallocation. The memory manager is responsible for allocating memory to Python objects and tracking which objects are currently in use. Python has two types of memory that it uses: stack memory and heap memory.\n",
        "\n",
        "14. What is the role of try and except in exception handling ?\n",
        "--> The try block lets you test a block of code for errors. The except block lets you handle the error. The else block lets you execute code when there is no error. The finally block lets you execute code, regardless of the result of the try- and except blocks.\n",
        "\n",
        "15. How does Python's garbage collection system work ?\n",
        "--> Garbage collection, an automatic memory management technique, is used by programming languages to deallocate memory that is no longer required by the program. The garbage collector in Python locates and releases memory occupied by objects that can no longer be accessed or referenced by the program's code.\n",
        "\n",
        "16. What is the purpose of the else block in exception handling ?\n",
        "--> The try block lets you test a block of code for errors. The except block lets you handle the error. The else block lets you execute code when there is no error.\n",
        "\n",
        "17. What are the common logging levels in Python ?\n",
        "--> There are six levels for logging in Python; each level is associated with an integer that indicates the log severity: NOTSET=0, DEBUG=10, INFO=20, WARN=30, ERROR=40, and CRITICAL=50.\n",
        "\n",
        "18. What is the difference between os.fork() and multiprocessing in Python ?\n",
        "--> The fork method is only supported on POSIX-based systems like Linux and macOS (not Windows), whereas the spawn start method is supported on all platforms. A major difference between the two start methods is speed. It is generally considered that forking a process is faster than spawning a process.\n",
        "\n",
        "19.  What is the importance of closing a file in Python ?\n",
        "--> Because files are limited resources managed by the operating system, making sure files are closed after use will protect against hard-to-debug issues like running out of file handles or experiencing corrupted data.\n",
        "\n",
        "20. What is the difference between file.read() and file.readline() in Python ?\n",
        "--> Read method reads the whole file as a single string while readlines segregates each of the line in the file and you then can later on call them line by line.\n",
        "\n",
        "21. What is the logging module in Python used for ?\n",
        "--> Python logging is a module that allows you to track events that occur while your program is running. You can use logging to record information about errors, warnings, and other events that occur during program execution. And logging is a useful tool for debugging, troubleshooting, and monitoring your program.\n",
        "\n",
        "22. What is the os module in Python used for in file handling ?\n",
        "--> Python has a built-in os module with methods for interacting with the operating system, like creating files and directories, management of files and directories, input, output, environment variables, process management, etc.\n",
        "\n",
        "23. What are the challenges associated with memory management in Python?\n",
        "--> The basic problem in managing memory is knowing when to keep the data it contains, and when to throw it away so that the memory can be reused.\n",
        "\n",
        "24.  How do you raise an exception manually in Python ?\n",
        "--> To manually raise an exception in Python, use the raise statement.\n",
        "\n",
        "25. Why is it important to use multithreading in certain applications?\n",
        "--> Multithreading enhances scalability by allowing a program to take advantage of multiple CPU cores or processors. Tasks can be divided into threads that can execute concurrently, enabling better utilization of available hardware resources and improving overall system performance as workload increases."
      ],
      "metadata": {
        "id": "RZYuYnZIE80i"
      }
    },
    {
      "cell_type": "code",
      "source": [
        "#1 How can you open a file for writing in Python and write a string to it ?\n",
        "\n",
        "# Open a file for writing\n",
        "with open(\"example.txt\", \"w\") as file:\n",
        "    # Write a string to the file\n",
        "    file.write(\"Hello, World!\")\n"
      ],
      "metadata": {
        "id": "WMzPM93fGu99"
      },
      "execution_count": 1,
      "outputs": []
    },
    {
      "cell_type": "code",
      "source": [
        "#2 Write a Python program to read the contents of a file and print each line\n",
        "\n",
        "# Open the file for reading\n",
        "with open(\"example.txt\", \"r\") as file:\n",
        "    # Iterate over each line in the file\n",
        "    for line in file:\n",
        "        # Print the line (strip trailing newline characters)\n",
        "        print(line.strip())\n"
      ],
      "metadata": {
        "colab": {
          "base_uri": "https://localhost:8080/"
        },
        "id": "Bm5YNQGULyTn",
        "outputId": "31866369-058e-4edf-a1f0-d65b89f3f424"
      },
      "execution_count": 2,
      "outputs": [
        {
          "output_type": "stream",
          "name": "stdout",
          "text": [
            "Hello, World!\n"
          ]
        }
      ]
    },
    {
      "cell_type": "code",
      "source": [
        " #3 How would you handle a case where the file doesn't exist while trying to open it for reading\n",
        "\n",
        " try:\n",
        "    # Attempt to open the file for reading\n",
        "    with open(\"example.txt\", \"r\") as file:\n",
        "        for line in file:\n",
        "            print(line.strip())\n",
        "except FileNotFoundError:\n",
        "    # Handle the case where the file doesn't exist\n",
        "    print(\"Error: The file does not exist.\")\n"
      ],
      "metadata": {
        "colab": {
          "base_uri": "https://localhost:8080/"
        },
        "id": "o0-AyADyL9gQ",
        "outputId": "c37cd1c3-af40-4dc7-a1e4-5d57a1560298"
      },
      "execution_count": 3,
      "outputs": [
        {
          "output_type": "stream",
          "name": "stdout",
          "text": [
            "Hello, World!\n"
          ]
        }
      ]
    },
    {
      "cell_type": "code",
      "source": [
        "#4 Write a Python script that reads from one file and writes its content to another file\n",
        "\n",
        "# Specify the source and destination file paths\n",
        "source_file = \"source.txt\"\n",
        "destination_file = \"destination.txt\"\n",
        "\n",
        "try:\n",
        "    # Open the source file for reading\n",
        "    with open(source_file, \"r\") as src:\n",
        "        # Read the content of the source file\n",
        "        content = src.read()\n",
        "\n",
        "    # Open the destination file for writing\n",
        "    with open(destination_file, \"w\") as dest:\n",
        "        # Write the content to the destination file\n",
        "        dest.write(content)\n",
        "\n",
        "    print(f\"Content has been successfully copied from {source_file} to {destination_file}.\")\n",
        "except FileNotFoundError:\n",
        "    print(f\"Error: The file '{source_file}' does not exist.\")\n",
        "except Exception as e:\n",
        "    print(f\"An error occurred: {e}\")\n"
      ],
      "metadata": {
        "colab": {
          "base_uri": "https://localhost:8080/"
        },
        "id": "8nsoB-3EMILK",
        "outputId": "20dd3ddb-01fb-41b6-f5b0-879a4c99518e"
      },
      "execution_count": 4,
      "outputs": [
        {
          "output_type": "stream",
          "name": "stdout",
          "text": [
            "Error: The file 'source.txt' does not exist.\n"
          ]
        }
      ]
    },
    {
      "cell_type": "code",
      "source": [
        "#5 How would you catch and handle division by zero error in Python\n",
        "try:\n",
        "    # Attempt a division operation\n",
        "    numerator = 10\n",
        "    denominator = 0\n",
        "    result = numerator / denominator\n",
        "    print(f\"The result is: {result}\")\n",
        "except ZeroDivisionError:\n",
        "    # Handle the division by zero error\n",
        "    print(\"Error: Division by zero is not allowed.\")\n"
      ],
      "metadata": {
        "colab": {
          "base_uri": "https://localhost:8080/"
        },
        "id": "HpOMKdxXMVN6",
        "outputId": "1fed9788-4e88-4c6c-d398-8cbd9a060c7e"
      },
      "execution_count": 5,
      "outputs": [
        {
          "output_type": "stream",
          "name": "stdout",
          "text": [
            "Error: Division by zero is not allowed.\n"
          ]
        }
      ]
    },
    {
      "cell_type": "code",
      "source": [
        "#6 Write a Python program that logs an error message to a log file when a division by zero exception occurs\n",
        "\n",
        "import logging\n",
        "\n",
        "# Configure logging to write errors to a file\n",
        "logging.basicConfig(\n",
        "    filename=\"error_log.txt\",\n",
        "    level=logging.ERROR,\n",
        "    format=\"%(asctime)s - %(levelname)s - %(message)s\"\n",
        ")\n",
        "\n",
        "def safe_divide(numerator, denominator):\n",
        "    try:\n",
        "        # Attempt the division\n",
        "        result = numerator / denominator\n",
        "        print(f\"The result is: {result}\")\n",
        "    except ZeroDivisionError:\n",
        "        # Log the error and notify the user\n",
        "        logging.error(\"Attempted to divide by zero.\")\n",
        "        print(\"Error: Division by zero is not allowed. The issue has been logged.\")\n",
        "\n",
        "# Example usage\n",
        "if __name__ == \"__main__\":\n",
        "    # Test case with division by zero\n",
        "    safe_divide(10, 0)\n",
        "    # Another test case for valid division\n",
        "    safe_divide(10, 2)\n"
      ],
      "metadata": {
        "colab": {
          "base_uri": "https://localhost:8080/"
        },
        "id": "NYRrZ58fMfsV",
        "outputId": "5d5e782d-ebeb-4a57-d48a-37e25fddbea7"
      },
      "execution_count": 1,
      "outputs": [
        {
          "output_type": "stream",
          "name": "stderr",
          "text": [
            "ERROR:root:Attempted to divide by zero.\n"
          ]
        },
        {
          "output_type": "stream",
          "name": "stdout",
          "text": [
            "Error: Division by zero is not allowed. The issue has been logged.\n",
            "The result is: 5.0\n"
          ]
        }
      ]
    },
    {
      "cell_type": "code",
      "source": [
        "#7 How do you log information at different levels (INFO, ERROR, WARNING) in Python using the logging module\n",
        "\n",
        "import logging\n",
        "\n",
        "# Configure the logging module\n",
        "logging.basicConfig(\n",
        "    filename=\"app_log.txt\",\n",
        "    level=logging.DEBUG,  # Set the lowest level to capture all messages\n",
        "    format=\"%(asctime)s - %(levelname)s - %(message)s\"\n",
        ")\n",
        "\n",
        "# Log messages at different levels\n",
        "logging.debug(\"This is a debug message (detailed diagnostic information).\")\n",
        "logging.info(\"This is an info message (general information).\")\n",
        "logging.warning(\"This is a warning message (potential issue).\")\n",
        "logging.error(\"This is an error message (a problem occurred).\")\n",
        "logging.critical(\"This is a critical message (serious issue).\")\n"
      ],
      "metadata": {
        "colab": {
          "base_uri": "https://localhost:8080/"
        },
        "id": "-3-8NaZ6ivLf",
        "outputId": "fc333f85-648f-4ff0-c92a-c065ba66ba94"
      },
      "execution_count": 2,
      "outputs": [
        {
          "output_type": "stream",
          "name": "stderr",
          "text": [
            "WARNING:root:This is a warning message (potential issue).\n",
            "ERROR:root:This is an error message (a problem occurred).\n",
            "CRITICAL:root:This is a critical message (serious issue).\n"
          ]
        }
      ]
    },
    {
      "cell_type": "code",
      "source": [
        "#8 Write a program to handle a file opening error using exception handling\n",
        "\n",
        "def open_file(file_path):\n",
        "    try:\n",
        "        # Attempt to open the file for reading\n",
        "        with open(file_path, \"r\") as file:\n",
        "            # Read and print the file's contents\n",
        "            content = file.read()\n",
        "            print(content)\n",
        "    except FileNotFoundError:\n",
        "        # Handle the case where the file does not exist\n",
        "        print(f\"Error: The file '{file_path}' was not found.\")\n",
        "    except PermissionError:\n",
        "        # Handle the case where the program lacks permission to open the file\n",
        "        print(f\"Error: Permission denied to open the file '{file_path}'.\")\n",
        "    except Exception as e:\n",
        "        # Handle other unforeseen exceptions\n",
        "        print(f\"An unexpected error occurred: {e}\")\n",
        "\n",
        "# Example usage\n",
        "if __name__ == \"__main__\":\n",
        "    file_path = input(\"Enter the path to the file you want to open: \")\n",
        "    open_file(file_path)\n"
      ],
      "metadata": {
        "colab": {
          "base_uri": "https://localhost:8080/"
        },
        "id": "sQeYoD_si8UU",
        "outputId": "e811c9af-bea2-4f65-e493-94c346acbb97"
      },
      "execution_count": 3,
      "outputs": [
        {
          "output_type": "stream",
          "name": "stdout",
          "text": [
            "Enter the path to the file you want to open: _main_\n",
            "Error: The file '_main_' was not found.\n"
          ]
        }
      ]
    },
    {
      "cell_type": "code",
      "source": [
        "#9 How can you read a file line by line and store its content in a list in Python\n",
        "def read_file_to_list(file_path):\n",
        "    try:\n",
        "        # Open the file for reading\n",
        "        with open(file_path, \"r\") as file:\n",
        "            # Read all lines and store them in a list\n",
        "            lines = file.readlines()\n",
        "        return lines\n",
        "    except FileNotFoundError:\n",
        "        print(f\"Error: The file '{file_path}' was not found.\")\n",
        "        return []\n",
        "    except Exception as e:\n",
        "        print(f\"An unexpected error occurred: {e}\")\n",
        "        return []"
      ],
      "metadata": {
        "id": "8Nh3gMrRjKdx"
      },
      "execution_count": 4,
      "outputs": []
    },
    {
      "cell_type": "code",
      "source": [
        "#10 How can you append data to an existing file in Python\n",
        "\n",
        "def append_to_file(file_path, data):\n",
        "    try:\n",
        "        # Open the file in append mode\n",
        "        with open(file_path, \"a\") as file:\n",
        "            # Append the data\n",
        "            file.write(data + \"\\n\")  # Adding a newline character for better readability\n",
        "        print(\"Data has been appended successfully.\")\n",
        "    except Exception as e:\n",
        "        print(f\"An error occurred: {e}\")"
      ],
      "metadata": {
        "id": "pGe4CdONjV6m"
      },
      "execution_count": 5,
      "outputs": []
    },
    {
      "cell_type": "code",
      "source": [
        "#11 Write a Python program that uses a try-except block to handle an error when attempting to access a\n",
        "#dictionary key that doesn't exist\n",
        "\n",
        "def access_dict_key(dictionary, key):\n",
        "    try:\n",
        "        # Attempt to access the value for the given key\n",
        "        value = dictionary[key]\n",
        "        print(f\"Value for '{key}': {value}\")\n",
        "    except KeyError:\n",
        "        # Handle the case where the key does not exist\n",
        "        print(f\"Error: The key '{key}' does not exist in the dictionary.\")"
      ],
      "metadata": {
        "id": "B4XKJQnVjfy2"
      },
      "execution_count": 6,
      "outputs": []
    },
    {
      "cell_type": "code",
      "source": [
        "#12 Write a program that demonstrates using multiple except blocks to handle different types of exceptions\n",
        "\n",
        "def demonstrate_multiple_exceptions():\n",
        "    try:\n",
        "\n",
        "        # IndexError\n",
        "        my_list = [1, 2, 3]\n",
        "        # print(my_list[5])  # Trying to access an invalid index\n",
        "\n",
        "    except ZeroDivisionError:\n",
        "        print(\"Error: Division by zero is not allowed.\")\n",
        "    except ValueError:\n",
        "        print(\"Error: Invalid input. Please enter a valid number.\")\n",
        "    except IndexError:\n",
        "        print(\"Error: Index out of range in the list.\")\n",
        "    except Exception as e:\n",
        "        print(f\"An unexpected error occurred: {e}\")\n",
        "    else:\n",
        "        print(\"No errors occurred!\")\n",
        "    finally:\n",
        "        print(\"Execution completed.\")\n",
        "\n",
        "# Call the function to see the behavior\n",
        "demonstrate_multiple_exceptions()\n"
      ],
      "metadata": {
        "colab": {
          "base_uri": "https://localhost:8080/"
        },
        "id": "LIGjr2eqjqBS",
        "outputId": "ca15fccd-2707-49c5-aead-2d54b91838ed"
      },
      "execution_count": 7,
      "outputs": [
        {
          "output_type": "stream",
          "name": "stdout",
          "text": [
            "No errors occurred!\n",
            "Execution completed.\n"
          ]
        }
      ]
    },
    {
      "cell_type": "code",
      "source": [
        "#13 How would you check if a file exists before attempting to read it in Python\n",
        "\n",
        "import os\n",
        "\n",
        "file_path = \"example.txt\"\n",
        "\n",
        "if os.path.exists(file_path):\n",
        "    with open(file_path, \"r\") as file:\n",
        "        content = file.read()\n",
        "        print(content)\n",
        "else:\n",
        "    print(f\"The file '{file_path}' does not exist.\")\n"
      ],
      "metadata": {
        "colab": {
          "base_uri": "https://localhost:8080/"
        },
        "id": "EcyfUeHkj_ws",
        "outputId": "e7a95e56-0524-42e9-f3e7-ad1a42d42fb6"
      },
      "execution_count": 8,
      "outputs": [
        {
          "output_type": "stream",
          "name": "stdout",
          "text": [
            "The file 'example.txt' does not exist.\n"
          ]
        }
      ]
    },
    {
      "cell_type": "code",
      "source": [
        "#14 Write a program that uses the logging module to log both informational and error messages\n",
        "\n",
        "import logging\n",
        "\n",
        "# Configure logging to log messages to a file with timestamp\n",
        "logging.basicConfig(\n",
        "    filename=\"app_log.txt\",\n",
        "    level=logging.DEBUG,  # Log all messages from DEBUG level and above\n",
        "    format=\"%(asctime)s - %(levelname)s - %(message)s\"\n",
        ")\n",
        "\n",
        "def perform_task():\n",
        "    logging.info(\"Starting the task...\")\n",
        "\n",
        "    try:\n",
        "        # Simulate some processing\n",
        "        result = 10 / 2\n",
        "        logging.info(f\"Task successful! Result: {result}\")\n",
        "    except ZeroDivisionError:\n",
        "        logging.error(\"Error: Division by zero occurred.\")\n",
        "    except Exception as e:\n",
        "        logging.error(f\"An unexpected error occurred: {e}\")\n",
        "    finally:\n",
        "        logging.info(\"Task completed.\")"
      ],
      "metadata": {
        "id": "uieFeVjQkJz5"
      },
      "execution_count": 9,
      "outputs": []
    },
    {
      "cell_type": "code",
      "source": [
        "#15  Write a Python program that prints the content of a file and handles the case when the file is empty\n",
        "\n",
        "def print_file_content(file_path):\n",
        "    try:\n",
        "        # Open the file for reading\n",
        "        with open(file_path, \"r\") as file:\n",
        "            content = file.read()\n",
        "\n",
        "            # Check if the file is empty\n",
        "            if not content:\n",
        "                print(\"The file is empty.\")\n",
        "            else:\n",
        "                print(\"File content:\")\n",
        "                print(content)\n",
        "\n",
        "    except FileNotFoundError:\n",
        "        print(f\"Error: The file '{file_path}' was not found.\")\n",
        "    except Exception as e:\n",
        "        print(f\"An unexpected error occurred: {e}\")\n"
      ],
      "metadata": {
        "id": "RNC8DpMrkUDm"
      },
      "execution_count": 10,
      "outputs": []
    },
    {
      "cell_type": "code",
      "source": [
        "# 16 Demonstrate how to use memory profiling to check the memory usage of a small program"
      ],
      "metadata": {
        "id": "5HOAsLA-kfZH"
      },
      "execution_count": 14,
      "outputs": []
    },
    {
      "cell_type": "code",
      "source": [
        "pip install memory-profiler\n"
      ],
      "metadata": {
        "colab": {
          "base_uri": "https://localhost:8080/"
        },
        "id": "_R7crQQtkzh7",
        "outputId": "08acee38-6ff7-465b-920b-ad959195db2c"
      },
      "execution_count": 13,
      "outputs": [
        {
          "output_type": "stream",
          "name": "stdout",
          "text": [
            "Collecting memory-profiler\n",
            "  Downloading memory_profiler-0.61.0-py3-none-any.whl.metadata (20 kB)\n",
            "Requirement already satisfied: psutil in /usr/local/lib/python3.10/dist-packages (from memory-profiler) (5.9.5)\n",
            "Downloading memory_profiler-0.61.0-py3-none-any.whl (31 kB)\n",
            "Installing collected packages: memory-profiler\n",
            "Successfully installed memory-profiler-0.61.0\n"
          ]
        }
      ]
    },
    {
      "cell_type": "code",
      "source": [
        "\n",
        "from memory_profiler import profile\n",
        "\n",
        "@profile\n",
        "def my_function():\n",
        "    # Create a large list and check memory usage\n",
        "    my_list = [i for i in range(100000)]\n",
        "    print(\"List created with 100000 elements.\")\n",
        "\n",
        "    # Perform some operations on the list\n",
        "    total = sum(my_list)\n",
        "    print(f\"Sum of list: {total}\")\n",
        "\n",
        "    # Create another large list and check memory usage\n",
        "    another_list = [i * 2 for i in range(200000)]\n",
        "    print(\"Second list created with 200000 elements.\")\n",
        "\n",
        "    return total\n",
        "\n",
        "if __name__ == \"__main__\":\n",
        "    my_function()\n"
      ],
      "metadata": {
        "colab": {
          "base_uri": "https://localhost:8080/"
        },
        "id": "E9o6AAdmk7aT",
        "outputId": "25c61408-076c-4ca5-9207-d147b683a6f6"
      },
      "execution_count": 15,
      "outputs": [
        {
          "output_type": "stream",
          "name": "stderr",
          "text": [
            "\n",
            "PYDEV DEBUGGER WARNING:\n",
            "sys.settrace() should not be used when the debugger is being used.\n",
            "This may cause the debugger to stop working correctly.\n",
            "If this is needed, please check: \n",
            "http://pydev.blogspot.com/2007/06/why-cant-pydev-debugger-work-with.html\n",
            "to see how to restore the debug tracing back correctly.\n",
            "Call Location:\n",
            "  File \"/usr/local/lib/python3.10/dist-packages/memory_profiler.py\", line 847, in enable\n",
            "    sys.settrace(self.trace_memory_usage)\n",
            "\n"
          ]
        },
        {
          "output_type": "stream",
          "name": "stdout",
          "text": [
            "ERROR: Could not find file <ipython-input-15-f7b342858b11>\n",
            "NOTE: %mprun can only be used on functions defined in physical files, and not in the IPython environment.\n",
            "List created with 100000 elements.\n",
            "Sum of list: 4999950000\n"
          ]
        },
        {
          "output_type": "stream",
          "name": "stderr",
          "text": [
            "\n",
            "PYDEV DEBUGGER WARNING:\n",
            "sys.settrace() should not be used when the debugger is being used.\n",
            "This may cause the debugger to stop working correctly.\n",
            "If this is needed, please check: \n",
            "http://pydev.blogspot.com/2007/06/why-cant-pydev-debugger-work-with.html\n",
            "to see how to restore the debug tracing back correctly.\n",
            "Call Location:\n",
            "  File \"/usr/local/lib/python3.10/dist-packages/memory_profiler.py\", line 850, in disable\n",
            "    sys.settrace(self._original_trace_function)\n",
            "\n"
          ]
        },
        {
          "output_type": "stream",
          "name": "stdout",
          "text": [
            "Second list created with 200000 elements.\n"
          ]
        }
      ]
    },
    {
      "cell_type": "code",
      "source": [
        "#17 Write a Python program to create and write a list of numbers to a file, one number per line\n",
        "def write_numbers_to_file(file_path, numbers):\n",
        "    try:\n",
        "        # Open the file in write mode\n",
        "        with open(file_path, \"w\") as file:\n",
        "            # Write each number to the file, one per line\n",
        "            for number in numbers:\n",
        "                file.write(f\"{number}\\n\")\n",
        "        print(f\"Numbers have been written to {file_path}.\")\n",
        "    except Exception as e:\n",
        "        print(f\"An error occurred: {e}\")\n"
      ],
      "metadata": {
        "id": "D_q89qZtk9HZ"
      },
      "execution_count": 16,
      "outputs": []
    },
    {
      "cell_type": "code",
      "source": [
        "#18 How would you implement a basic logging setup that logs to a file with rotation after 1MB\n",
        "\n",
        "import logging\n",
        "from logging.handlers import RotatingFileHandler\n",
        "\n",
        "# Set up the logging configuration\n",
        "def setup_logging():\n",
        "    # Create a rotating file handler with max file size of 1MB (1048576 bytes) and keeping 3 backup files\n",
        "    handler = RotatingFileHandler(\n",
        "        'app.log', maxBytes=1048576, backupCount=3\n",
        "    )\n",
        "\n",
        "    # Set the logging level to INFO (you can change this as needed)\n",
        "    handler.setLevel(logging.INFO)\n",
        "\n",
        "    # Create a logging formatter to include timestamps and log level\n",
        "    formatter = logging.Formatter('%(asctime)s - %(levelname)s - %(message)s')\n",
        "    handler.setFormatter(formatter)\n",
        "\n",
        "    # Get the root logger\n",
        "    logger = logging.getLogger()\n",
        "    logger.setLevel(logging.INFO)\n",
        "\n",
        "    # Add the rotating file handler to the logger\n",
        "    logger.addHandler(handler)\n",
        "\n",
        "    return logger\n",
        "\n",
        "\n"
      ],
      "metadata": {
        "id": "ILY4FxfYlG8Z"
      },
      "execution_count": 18,
      "outputs": []
    },
    {
      "cell_type": "code",
      "source": [
        "#19 Write a program that handles both IndexError and KeyError using a try-except block\n",
        "def handle_errors():\n",
        "    # List and dictionary for demonstration\n",
        "    my_list = [1, 2, 3]\n",
        "    my_dict = {\"name\": \"John\", \"age\": 25}\n",
        "\n",
        "    try:\n",
        "        # Attempt to access an index that might not exist\n",
        "        print(my_list[5])  # This will raise IndexError\n",
        "\n",
        "        # Attempt to access a key that might not exist\n",
        "        print(my_dict[\"address\"])  # This will raise KeyError\n",
        "\n",
        "    except IndexError as ie:\n",
        "        print(f\"IndexError: {ie} - Attempted to access an invalid index in the list.\")\n",
        "\n",
        "    except KeyError as ke:\n",
        "        print(f\"KeyError: {ke} - Attempted to access a non-existing key in the dictionary.\")\n",
        "\n",
        "    except Exception as e:\n",
        "        print(f\"An unexpected error occurred: {e}\")\n",
        "\n",
        "# Call the function\n",
        "handle_errors()\n"
      ],
      "metadata": {
        "colab": {
          "base_uri": "https://localhost:8080/"
        },
        "id": "jbN9AHMKlS5d",
        "outputId": "82e2b2fa-3754-4f38-d4b8-686d35ec3701"
      },
      "execution_count": 20,
      "outputs": [
        {
          "output_type": "stream",
          "name": "stdout",
          "text": [
            "IndexError: list index out of range - Attempted to access an invalid index in the list.\n"
          ]
        }
      ]
    },
    {
      "cell_type": "code",
      "source": [
        "#20  How would you open a file and read its contents using a context manager in Python\n",
        "\n",
        "def read_file(file_path):\n",
        "    try:\n",
        "        # Use a context manager to open the file\n",
        "        with open(file_path, 'r') as file:\n",
        "            # Read the contents of the file\n",
        "            content = file.read()\n",
        "            print(content)\n",
        "\n",
        "    except FileNotFoundError:\n",
        "        print(f\"Error: The file '{file_path}' was not found.\")\n",
        "    except Exception as e:\n",
        "        print(f\"An unexpected error occurred: {e}\")\n",
        "\n"
      ],
      "metadata": {
        "id": "1cmt_kZulpAz"
      },
      "execution_count": 21,
      "outputs": []
    },
    {
      "cell_type": "code",
      "source": [
        "#21 Write a Python program that reads a file and prints the number of occurrences of a specific word\n",
        "\n",
        "def count_word_occurrences(file_path, word):\n",
        "    try:\n",
        "        # Open the file using a context manager\n",
        "        with open(file_path, 'r') as file:\n",
        "            # Read the entire file content\n",
        "            content = file.read()\n",
        "\n",
        "            # Count occurrences of the word (case insensitive)\n",
        "            word_count = content.lower().split().count(word.lower())\n",
        "\n",
        "            # Print the number of occurrences\n",
        "            print(f\"The word '{word}' appears {word_count} time(s) in the file.\")\n",
        "\n",
        "    except FileNotFoundError:\n",
        "        print(f\"Error: The file '{file_path}' was not found.\")\n",
        "    except Exception as e:\n",
        "        print(f\"An unexpected error occurred: {e}\")"
      ],
      "metadata": {
        "id": "_fPabVcglyir"
      },
      "execution_count": 22,
      "outputs": []
    },
    {
      "cell_type": "code",
      "source": [
        "#22 How can you check if a file is empty before attempting to read its contents\n",
        "\n",
        "import os\n",
        "\n",
        "def read_file_if_not_empty(file_path):\n",
        "    try:\n",
        "        # Check if the file exists and is not empty\n",
        "        if os.path.exists(file_path) and os.path.getsize(file_path) > 0:\n",
        "            # Open and read the file\n",
        "            with open(file_path, 'r') as file:\n",
        "                content = file.read()\n",
        "                print(\"File Content:\")\n",
        "                print(content)\n",
        "        elif os.path.exists(file_path):\n",
        "            print(f\"The file '{file_path}' is empty.\")\n",
        "        else:\n",
        "            print(f\"The file '{file_path}' does not exist.\")\n",
        "    except Exception as e:\n",
        "        print(f\"An error occurred: {e}\")"
      ],
      "metadata": {
        "id": "dpGCWZsUl_2u"
      },
      "execution_count": 23,
      "outputs": []
    },
    {
      "cell_type": "code",
      "source": [
        "#23 Write a Python program that writes to a log file when an error occurs during file handling.\n",
        "\n",
        "import logging\n",
        "\n",
        "# Set up logging configuration\n",
        "logging.basicConfig(filename='file_error.log', level=logging.ERROR,\n",
        "                    format='%(asctime)s - %(levelname)s - %(message)s')\n",
        "\n",
        "def read_file(file_path):\n",
        "    try:\n",
        "        # Try to open the file for reading\n",
        "        with open(file_path, 'r') as file:\n",
        "            content = file.read()\n",
        "            print(content)\n",
        "\n",
        "    except FileNotFoundError as fnf_error:\n",
        "        # Log error if file is not found\n",
        "        logging.error(f\"FileNotFoundError: {fnf_error}\")\n",
        "        print(f\"Error: The file '{file_path}' was not found.\")\n",
        "\n",
        "    except PermissionError as perm_error:\n",
        "        # Log error if there is a permission issue\n",
        "        logging.error(f\"PermissionError: {perm_error}\")\n",
        "        print(f\"Error: Permission denied when accessing the file '{file_path}'.\")\n",
        "\n",
        "    except Exception as e:\n",
        "        # Log any other unexpected errors\n",
        "        logging.error(f\"Unexpected error: {e}\")\n",
        "        print(f\"An unexpected error occurred: {e}\")\n",
        "\n",
        "# Example usage\n",
        "file_path = \"non_existent_file.txt\"\n",
        "read_file(file_path)\n"
      ],
      "metadata": {
        "colab": {
          "base_uri": "https://localhost:8080/"
        },
        "id": "V5WKEO71mKJU",
        "outputId": "0c333a30-180e-4a5d-e275-5562115ac43f"
      },
      "execution_count": 24,
      "outputs": [
        {
          "output_type": "stream",
          "name": "stderr",
          "text": [
            "ERROR:root:FileNotFoundError: [Errno 2] No such file or directory: 'non_existent_file.txt'\n"
          ]
        },
        {
          "output_type": "stream",
          "name": "stdout",
          "text": [
            "Error: The file 'non_existent_file.txt' was not found.\n"
          ]
        }
      ]
    }
  ]
}